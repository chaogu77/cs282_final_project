{
 "cells": [
  {
   "cell_type": "code",
   "execution_count": 1,
   "metadata": {},
   "outputs": [],
   "source": [
    "#dependencies\n",
    "import numpy as np #matrix math\n",
    "import tensorflow as tf #ML"
   ]
  },
  {
   "cell_type": "code",
   "execution_count": 2,
   "metadata": {},
   "outputs": [],
   "source": [
    "tf.reset_default_graph()\n",
    "sess = tf.InteractiveSession()"
   ]
  },
  {
   "cell_type": "code",
   "execution_count": 3,
   "metadata": {},
   "outputs": [
    {
     "data": {
      "text/plain": [
       "'1.5.0'"
      ]
     },
     "execution_count": 3,
     "metadata": {},
     "output_type": "execute_result"
    }
   ],
   "source": [
    "tf.__version__"
   ]
  },
  {
   "cell_type": "markdown",
   "metadata": {},
   "source": [
    "## Input "
   ]
  },
  {
   "cell_type": "code",
   "execution_count": 4,
   "metadata": {},
   "outputs": [],
   "source": [
    "import pickle"
   ]
  },
  {
   "cell_type": "code",
   "execution_count": 5,
   "metadata": {},
   "outputs": [],
   "source": [
    "path = 'movie_line.pickle'"
   ]
  },
  {
   "cell_type": "code",
   "execution_count": 6,
   "metadata": {},
   "outputs": [],
   "source": [
    "data = pickle.load(open(path,'rb'))"
   ]
  },
  {
   "cell_type": "code",
   "execution_count": 7,
   "metadata": {},
   "outputs": [
    {
     "data": {
      "text/plain": [
       "0     They do to !\n",
       "1      I hope so .\n",
       "2       She okay ?\n",
       "3       Let's go .\n",
       "4              Wow\n",
       "Name: utterance, dtype: object"
      ]
     },
     "execution_count": 7,
     "metadata": {},
     "output_type": "execute_result"
    }
   ],
   "source": [
    "data.head()"
   ]
  },
  {
   "cell_type": "code",
   "execution_count": 11,
   "metadata": {},
   "outputs": [],
   "source": [
    "BOW = ' '.join(data.values.flatten())"
   ]
  },
  {
   "cell_type": "code",
   "execution_count": 12,
   "metadata": {},
   "outputs": [],
   "source": [
    "import collections\n",
    "BOW_Count = collections.Counter(BOW)"
   ]
  },
  {
   "cell_type": "code",
   "execution_count": 13,
   "metadata": {},
   "outputs": [
    {
     "data": {
      "text/plain": [
       "Counter({'\\t': 873,\n",
       "         ' ': 4300516,\n",
       "         '!': 37865,\n",
       "         '\"': 10143,\n",
       "         '#': 23,\n",
       "         '$': 180,\n",
       "         '%': 71,\n",
       "         '&': 266,\n",
       "         \"'\": 216097,\n",
       "         ')': 60,\n",
       "         '*': 1214,\n",
       "         '+': 30,\n",
       "         ',': 170375,\n",
       "         '-': 75136,\n",
       "         '.': 503913,\n",
       "         '/': 4069,\n",
       "         '0': 2486,\n",
       "         '1': 1927,\n",
       "         '2': 1194,\n",
       "         '3': 854,\n",
       "         '4': 809,\n",
       "         '5': 938,\n",
       "         '6': 584,\n",
       "         '7': 622,\n",
       "         '8': 627,\n",
       "         '9': 785,\n",
       "         ':': 1756,\n",
       "         ';': 1586,\n",
       "         '<': 7787,\n",
       "         '=': 16,\n",
       "         '>': 7786,\n",
       "         '?': 110240,\n",
       "         'A': 40594,\n",
       "         'B': 26691,\n",
       "         'C': 24115,\n",
       "         'D': 26186,\n",
       "         'E': 14534,\n",
       "         'F': 12962,\n",
       "         'G': 18165,\n",
       "         'H': 38513,\n",
       "         'I': 175189,\n",
       "         'J': 13746,\n",
       "         'K': 6222,\n",
       "         'L': 19375,\n",
       "         'M': 30971,\n",
       "         'N': 30209,\n",
       "         'O': 23539,\n",
       "         'P': 13531,\n",
       "         'Q': 749,\n",
       "         'R': 13481,\n",
       "         'S': 41207,\n",
       "         'T': 61361,\n",
       "         'U': 5724,\n",
       "         'V': 4130,\n",
       "         'W': 67612,\n",
       "         'X': 291,\n",
       "         'Y': 54388,\n",
       "         'Z': 740,\n",
       "         '[': 370,\n",
       "         ']': 552,\n",
       "         '^': 2,\n",
       "         '_': 149,\n",
       "         '`': 65,\n",
       "         'a': 906566,\n",
       "         'b': 167751,\n",
       "         'c': 240570,\n",
       "         'd': 427871,\n",
       "         'e': 1437740,\n",
       "         'f': 199500,\n",
       "         'g': 278671,\n",
       "         'h': 690992,\n",
       "         'i': 727361,\n",
       "         'j': 20605,\n",
       "         'k': 174424,\n",
       "         'l': 501744,\n",
       "         'm': 314065,\n",
       "         'n': 799931,\n",
       "         'o': 1114523,\n",
       "         'p': 165992,\n",
       "         'q': 6099,\n",
       "         'r': 636195,\n",
       "         's': 676091,\n",
       "         't': 1136773,\n",
       "         'u': 487693,\n",
       "         'v': 119483,\n",
       "         'w': 280438,\n",
       "         'x': 15490,\n",
       "         'y': 378280,\n",
       "         'z': 9077,\n",
       "         '{': 9,\n",
       "         '|': 50,\n",
       "         '}': 3,\n",
       "         '~': 28,\n",
       "         '£': 13,\n",
       "         '¥': 1,\n",
       "         '«': 1,\n",
       "         '\\xad': 2,\n",
       "         '²': 1,\n",
       "         '³': 1,\n",
       "         '·': 1,\n",
       "         '¹': 15,\n",
       "         'Ç': 1,\n",
       "         'È': 4,\n",
       "         'É': 2,\n",
       "         'Ò': 1,\n",
       "         'Ó': 1,\n",
       "         'Ô': 2,\n",
       "         'Õ': 1,\n",
       "         'Ü': 1,\n",
       "         'ß': 1,\n",
       "         'à': 10,\n",
       "         'á': 7,\n",
       "         'â': 3,\n",
       "         'ä': 28,\n",
       "         'ç': 6,\n",
       "         'è': 17,\n",
       "         'é': 84,\n",
       "         'ê': 7,\n",
       "         'í': 111,\n",
       "         'ï': 3,\n",
       "         'ñ': 8,\n",
       "         'ó': 9,\n",
       "         'ù': 2,\n",
       "         'ú': 1,\n",
       "         'û': 2,\n",
       "         'ü': 3,\n",
       "         'Œ': 6,\n",
       "         'Š': 1,\n",
       "         '–': 335,\n",
       "         '—': 1188,\n",
       "         '‘': 20,\n",
       "         '’': 1440,\n",
       "         '‚': 3,\n",
       "         '“': 32,\n",
       "         '”': 26,\n",
       "         '…': 91})"
      ]
     },
     "execution_count": 13,
     "metadata": {},
     "output_type": "execute_result"
    }
   ],
   "source": [
    "BOW_Count"
   ]
  },
  {
   "cell_type": "markdown",
   "metadata": {},
   "source": [
    "## Variable"
   ]
  },
  {
   "cell_type": "code",
   "execution_count": null,
   "metadata": {},
   "outputs": [],
   "source": [
    "PAD = 0\n",
    "EOS = 1\n",
    "\n",
    "vocab_size = 10 #number 0~9\n",
    "input_embedding_size = 20 #character length\n",
    "\n",
    "encoder_hidden_units = 20\n",
    "decoder_hidden_units = encoder_hidden_units * 2  \n",
    "#generally decoder should have same size of encoder, change its size will lead to different result"
   ]
  },
  {
   "cell_type": "code",
   "execution_count": null,
   "metadata": {},
   "outputs": [],
   "source": [
    "#placeholders\n",
    "encoder_inputs = tf.placeholder(shape=(None,None), dtype=tf.int32, name='encoder_inputs')\n",
    "encoder_inputs_length = tf.placeholder(shape=(None,), dtype = tf.int32, name = 'encoder_inputs_length')\n",
    "decoder_targets = tf.placeholder(shape=(None,None), dtype = tf.int32, name = 'decoder_targets')"
   ]
  },
  {
   "cell_type": "markdown",
   "metadata": {},
   "source": [
    "### Embedding"
   ]
  },
  {
   "cell_type": "code",
   "execution_count": null,
   "metadata": {},
   "outputs": [],
   "source": [
    "#embeddings\n",
    "embeddings = tf.Variable(tf.random_uniform([vocab_size,input_embedding_size], -1.0, 1),dtype = tf.float32)\n",
    "encoder_emb_inp = tf.nn.embedding_lookup(embeddings, encoder_inputs)"
   ]
  },
  {
   "cell_type": "markdown",
   "metadata": {},
   "source": [
    "### Encoder "
   ]
  },
  {
   "cell_type": "code",
   "execution_count": null,
   "metadata": {},
   "outputs": [],
   "source": [
    "#defining encoder\n",
    "encoder_cell = tf.nn.rnn_cell.BasicLSTMCell(encoder_hidden_units)"
   ]
  },
  {
   "cell_type": "code",
   "execution_count": null,
   "metadata": {},
   "outputs": [],
   "source": [
    "#dynamic rnn, bidirectional\n",
    "((encoder_fw_outputs,\n",
    "  encoder_bw_outputs),\n",
    " (encoder_fw_final_state, \n",
    "  encoder_bw_final_state)) = (\n",
    "    tf.nn.bidirectional_dynamic_rnn(cell_fw = encoder_cell,\n",
    "                     cell_bw = encoder_cell,\n",
    "                     inputs = encoder_emb_inp,\n",
    "                     sequence_length = encoder_inputs_length,\n",
    "                     dtype=tf.float32,\n",
    "                     time_major = True))"
   ]
  },
  {
   "cell_type": "code",
   "execution_count": null,
   "metadata": {},
   "outputs": [],
   "source": [
    "#bidirectional step\n",
    "encoder_outputs = tf.concat((encoder_fw_outputs, encoder_bw_outputs), 2)\n",
    "\n",
    "encoder_final_state_c = tf. concat(\n",
    "                        (encoder_fw_final_state.c, encoder_bw_final_state.c), 1)\n",
    "\n",
    "encoder_final_state_h = tf.concat(\n",
    "                        (encoder_fw_final_state.h, encoder_bw_final_state.h), 1)\n",
    "\n",
    "encoder_final_state = tf.nn.rnn_cell.LSTMStateTuple(\n",
    "                      c = encoder_final_state_c,\n",
    "                      h = encoder_final_state_h)"
   ]
  },
  {
   "cell_type": "code",
   "execution_count": null,
   "metadata": {},
   "outputs": [],
   "source": [
    "encoder_max_time, batch_size = tf.unstack(tf.shape(encoder_inputs))"
   ]
  },
  {
   "cell_type": "markdown",
   "metadata": {},
   "source": [
    "### Decoder"
   ]
  },
  {
   "cell_type": "code",
   "execution_count": null,
   "metadata": {},
   "outputs": [],
   "source": [
    "#defining decoder\n",
    "decoder_cell = tf.nn.rnn_cell.BasicLSTMCell(decoder_hidden_units)\n",
    "decoder_lengths = encoder_inputs_length + 3\n",
    "# +2 additional steps, +1 leading <EOS> token for decoder inputs"
   ]
  },
  {
   "cell_type": "code",
   "execution_count": null,
   "metadata": {},
   "outputs": [],
   "source": [
    "#output projection\n",
    "#define our weights and biases\n",
    "\n",
    "W = tf.Variable(tf.random_uniform([decoder_hidden_units],vocab_size,-1,1), dtype = tf.float32)\n",
    "b = tf.Variable(tf.zeros([vocab_size]), dtype=tf.float32)"
   ]
  },
  {
   "cell_type": "markdown",
   "metadata": {},
   "source": [
    "### Padding "
   ]
  },
  {
   "cell_type": "code",
   "execution_count": null,
   "metadata": {},
   "outputs": [],
   "source": [
    "#create padded inputs for the decoder from the word embeddings\n",
    "\n",
    "#telling the program to test a condition, and trigger an error if the condition if false\n",
    "assert EOS == 1 and PAD == 0\n",
    "\n",
    "eos_time_slice = tf.ones([batch_size], dtype=tf.int32,name='EOS')\n",
    "pad_time_slice = tf.zeros([batch_size], dtype=tf.int32, name='PAD')\n",
    "\n",
    "#retrieves rows of the params tensor. The behavior is similar to using indexing with arrays in numpy\n",
    "eos_step_embedded = tf.nn.embedding_lookup(embeddings,eos_time_slice)\n",
    "pad_step_embedded = tf.nn.embedding_lookup(embeddings,pad_time_slice)\n",
    "\n"
   ]
  },
  {
   "cell_type": "code",
   "execution_count": null,
   "metadata": {},
   "outputs": [],
   "source": [
    "# manually specifying loop function through time - to get intial cell state and input to RNN\n",
    "# normally we'd just use dynamic_rnn\n",
    "\n",
    "def loop_fn_initial():\n",
    "    initial_elements_finished = (0>= decoder_lengths) #all False at the initial step\n",
    "    #end of sentence\n",
    "    initial_input = eos_step_embedded\n",
    "    #last time steps cell state\n",
    "    initial_cell_state = encoder_final_state\n",
    "    #none\n",
    "    initial_cell_output = None\n",
    "    #none\n",
    "    initial_loop_state = None\n",
    "    return (initial_elements_finished,\n",
    "           initial_input,\n",
    "           initial_cell_state,\n",
    "           initial_loop_state)\n"
   ]
  },
  {
   "cell_type": "code",
   "execution_count": null,
   "metadata": {},
   "outputs": [],
   "source": [
    "#\"soft\" attention mechanism choose which previously generated token to pass as input in the next time\n",
    "def loop_fn_transition(time, previous_output, previous_state, previous_loop_state):\n",
    "    \n",
    "    def get_next_input():\n",
    "        output_logits = tf.add(tf.matmul(previous_output,W),b)\n",
    "        #This is Attention\n",
    "        prediction = tf.argmax(output_logits, axis=1)\n",
    "        next_input = tf.nn.embedding_lookup(embeddings,prediction)\n",
    "        return next_input\n",
    "    \n",
    "    elements_finished = (time >= decoder_lengths)\n",
    "    \n",
    "    finished = tf.reduce_all(elements_finished)\n",
    "    input_ = tf.cond(finished, lambda:pad_step_embedded, get_next_input)\n",
    "    \n",
    "    #set previous to current\n",
    "    state = previous_state\n",
    "    output = previous_output\n",
    "    loop_state = None\n",
    "    \n",
    "    return(elements_finished,\n",
    "          input_,\n",
    "          state,\n",
    "          output,\n",
    "          loop_state)"
   ]
  },
  {
   "cell_type": "code",
   "execution_count": null,
   "metadata": {},
   "outputs": [],
   "source": [
    "def loop_fn(time,previous_output,previous_state, previous_loop_state):\n",
    "    if previous_state is None: #time == 0\n",
    "        assert previous_output is None and previous_state is None\n",
    "        return loop_fn_initial()\n",
    "    else:\n",
    "        return loop_fn_transition(time, previous_output, previous_state, previous_loop_state)"
   ]
  },
  {
   "cell_type": "code",
   "execution_count": null,
   "metadata": {},
   "outputs": [],
   "source": [
    "decoder_outputs_ta, decoder_final_state, _ = tf.nn.raw_rnn(decoder_cell,loop_fn)\n",
    "decoder_outputs = decoder_outputs_ta.stack()"
   ]
  },
  {
   "cell_type": "code",
   "execution_count": null,
   "metadata": {},
   "outputs": [],
   "source": []
  }
 ],
 "metadata": {
  "kernelspec": {
   "display_name": "Python [default]",
   "language": "python",
   "name": "python3"
  },
  "language_info": {
   "codemirror_mode": {
    "name": "ipython",
    "version": 3
   },
   "file_extension": ".py",
   "mimetype": "text/x-python",
   "name": "python",
   "nbconvert_exporter": "python",
   "pygments_lexer": "ipython3",
   "version": "3.6.4"
  }
 },
 "nbformat": 4,
 "nbformat_minor": 2
}
